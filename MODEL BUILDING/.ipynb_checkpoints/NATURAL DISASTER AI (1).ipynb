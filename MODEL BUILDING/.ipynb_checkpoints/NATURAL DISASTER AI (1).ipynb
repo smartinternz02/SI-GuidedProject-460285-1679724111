{
 "cells": [
  {
   "cell_type": "code",
   "execution_count": 1,
   "id": "0592181a",
   "metadata": {},
   "outputs": [],
   "source": [
    "from keras.preprocessing.image import ImageDataGenerator"
   ]
  },
  {
   "cell_type": "code",
   "execution_count": 2,
   "id": "c5fde37b",
   "metadata": {},
   "outputs": [],
   "source": [
    "train_datagen = ImageDataGenerator(rescale = 1./255, shear_range = 0.2, zoom_range = 0.2, horizontal_flip = True)\n",
    "test_datagen = ImageDataGenerator(rescale = 1./255)\n",
    "     "
   ]
  },
  {
   "cell_type": "code",
   "execution_count": 3,
   "id": "d87b55f5",
   "metadata": {},
   "outputs": [
    {
     "name": "stdout",
     "output_type": "stream",
     "text": [
      "Found 742 images belonging to 4 classes.\n",
      "Found 198 images belonging to 4 classes.\n"
     ]
    }
   ],
   "source": [
    "#Performing data augmentation to train data\n",
    "\n",
    "x_train = train_datagen.flow_from_directory('C:/Users/jagad/Dropbox/PC/Downloads/dataset/train_set', target_size = (64,64), batch_size = 5, color_mode = 'rgb', class_mode = 'categorical')\n",
    "\n",
    "#performing data augmentation to test data\n",
    "\n",
    "x_test = test_datagen.flow_from_directory('C:/Users/jagad/Dropbox/PC/Downloads/dataset/test_set', target_size = (64,64), batch_size = 5, color_mode = 'rgb', class_mode = 'categorical')\n"
   ]
  },
  {
   "cell_type": "code",
   "execution_count": 4,
   "id": "c48a23c6",
   "metadata": {},
   "outputs": [],
   "source": [
    "#importing neccessary libraries\n",
    "\n",
    "import numpy as np\n",
    "import tensorflow\n",
    "from tensorflow.keras.models import Sequential\n",
    "from tensorflow.keras.layers import Dense,Conv2D,MaxPooling2D,Flatten"
   ]
  },
  {
   "cell_type": "code",
   "execution_count": 5,
   "id": "7e464b3d",
   "metadata": {},
   "outputs": [],
   "source": [
    "# initialising the model and adding CNN layers\n",
    "\n",
    "model = Sequential()\n",
    "\n",
    "# First convolution layer and pooling\n",
    "model.add(Conv2D(32,(3,3),input_shape=(64,64,3),activation='relu'))\n",
    "model.add(MaxPooling2D(pool_size=(2,2)))\n",
    "\n",
    "#Second convolution layer and pooling\n",
    "model.add(Conv2D(32,(3,3),activation='relu'))\n",
    "model.add(MaxPooling2D(pool_size=(2,2)))\n",
    "\n",
    "#Flattening the layers\n",
    "model.add(Flatten())\n",
    "\n",
    "#Adding Dense Layers\n",
    "model.add(Dense(units=128,activation='relu'))\n",
    "model.add(Dense(units=4,activation='softmax'))"
   ]
  },
  {
   "cell_type": "code",
   "execution_count": 6,
   "id": "8b81563a",
   "metadata": {},
   "outputs": [
    {
     "name": "stdout",
     "output_type": "stream",
     "text": [
      "Model: \"sequential\"\n",
      "_________________________________________________________________\n",
      " Layer (type)                Output Shape              Param #   \n",
      "=================================================================\n",
      " conv2d (Conv2D)             (None, 62, 62, 32)        896       \n",
      "                                                                 \n",
      " max_pooling2d (MaxPooling2D  (None, 31, 31, 32)       0         \n",
      " )                                                               \n",
      "                                                                 \n",
      " conv2d_1 (Conv2D)           (None, 29, 29, 32)        9248      \n",
      "                                                                 \n",
      " max_pooling2d_1 (MaxPooling  (None, 14, 14, 32)       0         \n",
      " 2D)                                                             \n",
      "                                                                 \n",
      " flatten (Flatten)           (None, 6272)              0         \n",
      "                                                                 \n",
      " dense (Dense)               (None, 128)               802944    \n",
      "                                                                 \n",
      " dense_1 (Dense)             (None, 4)                 516       \n",
      "                                                                 \n",
      "=================================================================\n",
      "Total params: 813,604\n",
      "Trainable params: 813,604\n",
      "Non-trainable params: 0\n",
      "_________________________________________________________________\n"
     ]
    }
   ],
   "source": [
    "# Summary of our model\n",
    "\n",
    "model.summary()"
   ]
  },
  {
   "cell_type": "code",
   "execution_count": 7,
   "id": "759ec421",
   "metadata": {},
   "outputs": [],
   "source": [
    "# Compiling the model\n",
    "\n",
    "model.compile(optimizer='adam', loss='categorical_crossentropy', metrics=['accuracy'])"
   ]
  },
  {
   "cell_type": "code",
   "execution_count": 8,
   "id": "2912add7",
   "metadata": {},
   "outputs": [
    {
     "name": "stderr",
     "output_type": "stream",
     "text": [
      "C:\\Users\\jagad\\AppData\\Local\\Temp\\ipykernel_19876\\4225456588.py:3: UserWarning: `Model.fit_generator` is deprecated and will be removed in a future version. Please use `Model.fit`, which supports generators.\n",
      "  model.fit_generator(generator=x_train,steps_per_epoch=len(x_train),epochs=20,validation_data=x_test,validation_steps=len(x_test))\n"
     ]
    },
    {
     "name": "stdout",
     "output_type": "stream",
     "text": [
      "Epoch 1/20\n",
      "149/149 [==============================] - 80s 522ms/step - loss: 1.1729 - accuracy: 0.4582 - val_loss: 0.9806 - val_accuracy: 0.6212\n",
      "Epoch 2/20\n",
      "149/149 [==============================] - 67s 455ms/step - loss: 0.8782 - accuracy: 0.6375 - val_loss: 0.7660 - val_accuracy: 0.7273\n",
      "Epoch 3/20\n",
      "149/149 [==============================] - 66s 443ms/step - loss: 0.6613 - accuracy: 0.7426 - val_loss: 0.7242 - val_accuracy: 0.7374\n",
      "Epoch 4/20\n",
      "149/149 [==============================] - 52s 350ms/step - loss: 0.6536 - accuracy: 0.7480 - val_loss: 0.9156 - val_accuracy: 0.6212\n",
      "Epoch 5/20\n",
      "149/149 [==============================] - 30s 200ms/step - loss: 0.5685 - accuracy: 0.7911 - val_loss: 1.0131 - val_accuracy: 0.6465\n",
      "Epoch 6/20\n",
      "149/149 [==============================] - 29s 196ms/step - loss: 0.5081 - accuracy: 0.8046 - val_loss: 0.7637 - val_accuracy: 0.7020\n",
      "Epoch 7/20\n",
      "149/149 [==============================] - 31s 210ms/step - loss: 0.4813 - accuracy: 0.8086 - val_loss: 1.2370 - val_accuracy: 0.6566\n",
      "Epoch 8/20\n",
      "149/149 [==============================] - 29s 195ms/step - loss: 0.4532 - accuracy: 0.8248 - val_loss: 0.6701 - val_accuracy: 0.7828\n",
      "Epoch 9/20\n",
      "149/149 [==============================] - 29s 198ms/step - loss: 0.3572 - accuracy: 0.8679 - val_loss: 0.6882 - val_accuracy: 0.7778\n",
      "Epoch 10/20\n",
      "149/149 [==============================] - 29s 196ms/step - loss: 0.3265 - accuracy: 0.8774 - val_loss: 0.7612 - val_accuracy: 0.7626\n",
      "Epoch 11/20\n",
      "149/149 [==============================] - 29s 195ms/step - loss: 0.2859 - accuracy: 0.8989 - val_loss: 0.6714 - val_accuracy: 0.8182\n",
      "Epoch 12/20\n",
      "149/149 [==============================] - 29s 193ms/step - loss: 0.3095 - accuracy: 0.8801 - val_loss: 0.8180 - val_accuracy: 0.7576\n",
      "Epoch 13/20\n",
      "149/149 [==============================] - 33s 222ms/step - loss: 0.3060 - accuracy: 0.8814 - val_loss: 0.9079 - val_accuracy: 0.7374\n",
      "Epoch 14/20\n",
      "149/149 [==============================] - 48s 321ms/step - loss: 0.2980 - accuracy: 0.8976 - val_loss: 0.7638 - val_accuracy: 0.7879\n",
      "Epoch 15/20\n",
      "149/149 [==============================] - 54s 363ms/step - loss: 0.2786 - accuracy: 0.8935 - val_loss: 0.9517 - val_accuracy: 0.7273\n",
      "Epoch 16/20\n",
      "149/149 [==============================] - 55s 368ms/step - loss: 0.2289 - accuracy: 0.9111 - val_loss: 0.7705 - val_accuracy: 0.7879\n",
      "Epoch 17/20\n",
      "149/149 [==============================] - 46s 307ms/step - loss: 0.2308 - accuracy: 0.9124 - val_loss: 0.7467 - val_accuracy: 0.7677\n",
      "Epoch 18/20\n",
      "149/149 [==============================] - 36s 241ms/step - loss: 0.2304 - accuracy: 0.9070 - val_loss: 0.8335 - val_accuracy: 0.8283\n",
      "Epoch 19/20\n",
      "149/149 [==============================] - 35s 233ms/step - loss: 0.2516 - accuracy: 0.9164 - val_loss: 1.0068 - val_accuracy: 0.7828\n",
      "Epoch 20/20\n",
      "149/149 [==============================] - 37s 246ms/step - loss: 0.1878 - accuracy: 0.9420 - val_loss: 0.9295 - val_accuracy: 0.8232\n"
     ]
    },
    {
     "data": {
      "text/plain": [
       "<keras.callbacks.History at 0x1980a96b1f0>"
      ]
     },
     "execution_count": 8,
     "metadata": {},
     "output_type": "execute_result"
    }
   ],
   "source": [
    "# Fitting the model\n",
    "\n",
    "model.fit_generator(generator=x_train,steps_per_epoch=len(x_train),epochs=20,validation_data=x_test,validation_steps=len(x_test))"
   ]
  },
  {
   "cell_type": "code",
   "execution_count": 9,
   "id": "26065e2d",
   "metadata": {},
   "outputs": [],
   "source": [
    " # Save the model\n",
    "\n",
    "model.save('disaster.h5')\n",
    "model_json = model.to_json()\n",
    "with open(\"model-bw.json\", \"w\") as json_file:\n",
    "  json_file.write(model_json)"
   ]
  },
  {
   "cell_type": "code",
   "execution_count": 10,
   "id": "f653e158",
   "metadata": {},
   "outputs": [],
   "source": [
    "# Load the saved model\n",
    "\n",
    "from tensorflow.keras.models import load_model\n",
    "from tensorflow.keras.preprocessing import image\n",
    "model = load_model('disaster.h5')"
   ]
  },
  {
   "cell_type": "code",
   "execution_count": 11,
   "id": "1be515a6",
   "metadata": {},
   "outputs": [
    {
     "data": {
      "text/plain": [
       "{'Cyclone': 0, 'Earthquake': 1, 'Flood': 2, 'Wildfire': 3}"
      ]
     },
     "execution_count": 11,
     "metadata": {},
     "output_type": "execute_result"
    }
   ],
   "source": [
    "x_train.class_indices"
   ]
  },
  {
   "cell_type": "code",
   "execution_count": 14,
   "id": "5a5cc4ad",
   "metadata": {},
   "outputs": [
    {
     "name": "stdout",
     "output_type": "stream",
     "text": [
      "1/1 [==============================] - 0s 20ms/step\n",
      "Flood\n"
     ]
    }
   ],
   "source": [
    "img = image.load_img('C:/Users/jagad/Dropbox/PC/Downloads/dataset/test_set/Flood/1003.jpg',target_size=(64,64))\n",
    "x=image.img_to_array(img)\n",
    "x=np.expand_dims(x,axis=0)\n",
    "index=['Cyclone','Earthquake','Flood','Wildfire']\n",
    "y=np.argmax(model.predict(x),axis=1)\n",
    "print(index[int(y)])"
   ]
  },
  {
   "cell_type": "code",
   "execution_count": 15,
   "id": "45b68ad7",
   "metadata": {},
   "outputs": [
    {
     "name": "stdout",
     "output_type": "stream",
     "text": [
      "1/1 [==============================] - 0s 23ms/step\n",
      "Cyclone\n"
     ]
    }
   ],
   "source": [
    "# input 2\n",
    "\n",
    "img = image.load_img('C:/Users/jagad/Dropbox/PC/Downloads/dataset/test_set/Wildfire/1065.jpg',target_size=(64,64))\n",
    "x=image.img_to_array(img)\n",
    "x=np.expand_dims(x,axis=0)\n",
    "index=['Cyclone','Earthquake','Flood','Wildfire']\n",
    "y=np.argmax(model.predict(x),axis=1)\n",
    "print(index[int(y)])"
   ]
  },
  {
   "cell_type": "code",
   "execution_count": null,
   "id": "3496e553",
   "metadata": {},
   "outputs": [],
   "source": []
  },
  {
   "cell_type": "code",
   "execution_count": null,
   "id": "55c472aa",
   "metadata": {},
   "outputs": [],
   "source": []
  }
 ],
 "metadata": {
  "kernelspec": {
   "display_name": "Python 3 (ipykernel)",
   "language": "python",
   "name": "python3"
  },
  "language_info": {
   "codemirror_mode": {
    "name": "ipython",
    "version": 3
   },
   "file_extension": ".py",
   "mimetype": "text/x-python",
   "name": "python",
   "nbconvert_exporter": "python",
   "pygments_lexer": "ipython3",
   "version": "3.10.9"
  }
 },
 "nbformat": 4,
 "nbformat_minor": 5
}
